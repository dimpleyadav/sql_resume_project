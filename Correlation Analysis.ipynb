{
 "cells": [
  {
   "cell_type": "markdown",
   "id": "74a73b82",
   "metadata": {},
   "source": [
    "### 1. Is there a correlation between postal votes % and voter turnout %?"
   ]
  },
  {
   "cell_type": "code",
   "execution_count": 1,
   "id": "7bb24375",
   "metadata": {},
   "outputs": [
    {
     "data": {
      "text/html": [
       "<div>\n",
       "<style scoped>\n",
       "    .dataframe tbody tr th:only-of-type {\n",
       "        vertical-align: middle;\n",
       "    }\n",
       "\n",
       "    .dataframe tbody tr th {\n",
       "        vertical-align: top;\n",
       "    }\n",
       "\n",
       "    .dataframe thead th {\n",
       "        text-align: right;\n",
       "    }\n",
       "</style>\n",
       "<table border=\"1\" class=\"dataframe\">\n",
       "  <thead>\n",
       "    <tr style=\"text-align: right;\">\n",
       "      <th></th>\n",
       "      <th>pc_name</th>\n",
       "      <th>voter_turnout_ratio</th>\n",
       "      <th>postal_vote_percent</th>\n",
       "    </tr>\n",
       "  </thead>\n",
       "  <tbody>\n",
       "    <tr>\n",
       "      <th>0</th>\n",
       "      <td>Adilabad</td>\n",
       "      <td>75.44</td>\n",
       "      <td>62.63</td>\n",
       "    </tr>\n",
       "    <tr>\n",
       "      <th>1</th>\n",
       "      <td>Peddapalle</td>\n",
       "      <td>71.71</td>\n",
       "      <td>4.71</td>\n",
       "    </tr>\n",
       "    <tr>\n",
       "      <th>2</th>\n",
       "      <td>Karimnagar</td>\n",
       "      <td>72.55</td>\n",
       "      <td>17.90</td>\n",
       "    </tr>\n",
       "    <tr>\n",
       "      <th>3</th>\n",
       "      <td>Nizamabad</td>\n",
       "      <td>69.10</td>\n",
       "      <td>33.12</td>\n",
       "    </tr>\n",
       "    <tr>\n",
       "      <th>4</th>\n",
       "      <td>Zahirabad</td>\n",
       "      <td>75.75</td>\n",
       "      <td>58.99</td>\n",
       "    </tr>\n",
       "  </tbody>\n",
       "</table>\n",
       "</div>"
      ],
      "text/plain": [
       "       pc_name  voter_turnout_ratio  postal_vote_percent\n",
       "0    Adilabad                 75.44                62.63\n",
       "1  Peddapalle                 71.71                 4.71\n",
       "2  Karimnagar                 72.55                17.90\n",
       "3    Nizamabad                69.10                33.12\n",
       "4    Zahirabad                75.75                58.99"
      ]
     },
     "execution_count": 1,
     "metadata": {},
     "output_type": "execute_result"
    }
   ],
   "source": [
    "import matplotlib.pyplot as plt\n",
    "import pandas as pd\n",
    "\n",
    "# read data from excel file\n",
    "data = pd.read_excel('C:\\\\Users\\HP\\Desktop\\\\2.xlsx')\n",
    "\n",
    "# display the contents\n",
    "data.head()"
   ]
  },
  {
   "cell_type": "code",
   "execution_count": 2,
   "id": "f9b7394c",
   "metadata": {
    "scrolled": true
   },
   "outputs": [
    {
     "data": {
      "text/html": [
       "<div>\n",
       "<style scoped>\n",
       "    .dataframe tbody tr th:only-of-type {\n",
       "        vertical-align: middle;\n",
       "    }\n",
       "\n",
       "    .dataframe tbody tr th {\n",
       "        vertical-align: top;\n",
       "    }\n",
       "\n",
       "    .dataframe thead th {\n",
       "        text-align: right;\n",
       "    }\n",
       "</style>\n",
       "<table border=\"1\" class=\"dataframe\">\n",
       "  <thead>\n",
       "    <tr style=\"text-align: right;\">\n",
       "      <th></th>\n",
       "      <th>voter_turnout_ratio</th>\n",
       "      <th>postal_vote_percent</th>\n",
       "    </tr>\n",
       "  </thead>\n",
       "  <tbody>\n",
       "    <tr>\n",
       "      <th>voter_turnout_ratio</th>\n",
       "      <td>1.000000</td>\n",
       "      <td>-0.032101</td>\n",
       "    </tr>\n",
       "    <tr>\n",
       "      <th>postal_vote_percent</th>\n",
       "      <td>-0.032101</td>\n",
       "      <td>1.000000</td>\n",
       "    </tr>\n",
       "  </tbody>\n",
       "</table>\n",
       "</div>"
      ],
      "text/plain": [
       "                     voter_turnout_ratio  postal_vote_percent\n",
       "voter_turnout_ratio             1.000000            -0.032101\n",
       "postal_vote_percent            -0.032101             1.000000"
      ]
     },
     "execution_count": 2,
     "metadata": {},
     "output_type": "execute_result"
    }
   ],
   "source": [
    "# compute the correlation matrix\n",
    "corr_matrix = data.corr()\n",
    "corr_matrix"
   ]
  },
  {
   "cell_type": "markdown",
   "id": "cba99815",
   "metadata": {},
   "source": [
    "The correlation coefficient between voter_turnout_ratio and postal_vote_percent is -0.032101. This value is very close to 0, indicating that there is almost no linear relationship between these two variables. Therefore, based on this correlation coefficient, one can conclude that there is no significant correlation between voter_turnout_ratio and postal_vote_percent."
   ]
  },
  {
   "cell_type": "markdown",
   "id": "e9f03d0e",
   "metadata": {},
   "source": [
    "### 2019 "
   ]
  },
  {
   "cell_type": "code",
   "execution_count": 3,
   "id": "3d791054",
   "metadata": {},
   "outputs": [
    {
     "data": {
      "text/html": [
       "<div>\n",
       "<style scoped>\n",
       "    .dataframe tbody tr th:only-of-type {\n",
       "        vertical-align: middle;\n",
       "    }\n",
       "\n",
       "    .dataframe tbody tr th {\n",
       "        vertical-align: top;\n",
       "    }\n",
       "\n",
       "    .dataframe thead th {\n",
       "        text-align: right;\n",
       "    }\n",
       "</style>\n",
       "<table border=\"1\" class=\"dataframe\">\n",
       "  <thead>\n",
       "    <tr style=\"text-align: right;\">\n",
       "      <th></th>\n",
       "      <th>pc_name</th>\n",
       "      <th>voter_turnout_ratio</th>\n",
       "      <th>postal_vote_percent</th>\n",
       "    </tr>\n",
       "  </thead>\n",
       "  <tbody>\n",
       "    <tr>\n",
       "      <th>0</th>\n",
       "      <td>Aruku</td>\n",
       "      <td>74.03</td>\n",
       "      <td>25.63</td>\n",
       "    </tr>\n",
       "    <tr>\n",
       "      <th>1</th>\n",
       "      <td>Srikakulam</td>\n",
       "      <td>74.48</td>\n",
       "      <td>37.23</td>\n",
       "    </tr>\n",
       "    <tr>\n",
       "      <th>2</th>\n",
       "      <td>Vizianagaram</td>\n",
       "      <td>80.98</td>\n",
       "      <td>34.24</td>\n",
       "    </tr>\n",
       "    <tr>\n",
       "      <th>3</th>\n",
       "      <td>Visakhapatnam</td>\n",
       "      <td>67.77</td>\n",
       "      <td>6.87</td>\n",
       "    </tr>\n",
       "    <tr>\n",
       "      <th>4</th>\n",
       "      <td>Anakapalli</td>\n",
       "      <td>81.41</td>\n",
       "      <td>29.47</td>\n",
       "    </tr>\n",
       "  </tbody>\n",
       "</table>\n",
       "</div>"
      ],
      "text/plain": [
       "         pc_name  voter_turnout_ratio  postal_vote_percent\n",
       "0         Aruku                 74.03                25.63\n",
       "1     Srikakulam                74.48                37.23\n",
       "2   Vizianagaram                80.98                34.24\n",
       "3  Visakhapatnam                67.77                 6.87\n",
       "4     Anakapalli                81.41                29.47"
      ]
     },
     "execution_count": 3,
     "metadata": {},
     "output_type": "execute_result"
    }
   ],
   "source": [
    "# read the excel file \n",
    "data_19= pd.read_excel('C:\\\\Users\\HP\\Desktop\\\\scatter_plot_2019.xlsx')\n",
    "\n",
    "data_19.head()"
   ]
  },
  {
   "cell_type": "code",
   "execution_count": 4,
   "id": "8b8154b5",
   "metadata": {},
   "outputs": [
    {
     "data": {
      "text/html": [
       "<div>\n",
       "<style scoped>\n",
       "    .dataframe tbody tr th:only-of-type {\n",
       "        vertical-align: middle;\n",
       "    }\n",
       "\n",
       "    .dataframe tbody tr th {\n",
       "        vertical-align: top;\n",
       "    }\n",
       "\n",
       "    .dataframe thead th {\n",
       "        text-align: right;\n",
       "    }\n",
       "</style>\n",
       "<table border=\"1\" class=\"dataframe\">\n",
       "  <thead>\n",
       "    <tr style=\"text-align: right;\">\n",
       "      <th></th>\n",
       "      <th>voter_turnout_ratio</th>\n",
       "      <th>postal_vote_percent</th>\n",
       "    </tr>\n",
       "  </thead>\n",
       "  <tbody>\n",
       "    <tr>\n",
       "      <th>voter_turnout_ratio</th>\n",
       "      <td>1.00000</td>\n",
       "      <td>-0.10209</td>\n",
       "    </tr>\n",
       "    <tr>\n",
       "      <th>postal_vote_percent</th>\n",
       "      <td>-0.10209</td>\n",
       "      <td>1.00000</td>\n",
       "    </tr>\n",
       "  </tbody>\n",
       "</table>\n",
       "</div>"
      ],
      "text/plain": [
       "                     voter_turnout_ratio  postal_vote_percent\n",
       "voter_turnout_ratio              1.00000             -0.10209\n",
       "postal_vote_percent             -0.10209              1.00000"
      ]
     },
     "execution_count": 4,
     "metadata": {},
     "output_type": "execute_result"
    }
   ],
   "source": [
    "# compute the correlation matrix\n",
    "corr_matrix_19 = data_19.corr()\n",
    "corr_matrix_19"
   ]
  },
  {
   "cell_type": "markdown",
   "id": "eae4ef35",
   "metadata": {},
   "source": [
    "There is a very weak negative correlation between voter_turnout_ratio and postal_vote_percent, suggesting minimal linear relationship between the two variables (the coefficient is still quite low and close to 0)."
   ]
  },
  {
   "cell_type": "markdown",
   "id": "459ce32c",
   "metadata": {},
   "source": [
    "### 2. Is there any correlation between GDP of a state and voter turnout %?"
   ]
  },
  {
   "cell_type": "code",
   "execution_count": 5,
   "id": "56ea4d4d",
   "metadata": {},
   "outputs": [
    {
     "data": {
      "text/html": [
       "<div>\n",
       "<style scoped>\n",
       "    .dataframe tbody tr th:only-of-type {\n",
       "        vertical-align: middle;\n",
       "    }\n",
       "\n",
       "    .dataframe tbody tr th {\n",
       "        vertical-align: top;\n",
       "    }\n",
       "\n",
       "    .dataframe thead th {\n",
       "        text-align: right;\n",
       "    }\n",
       "</style>\n",
       "<table border=\"1\" class=\"dataframe\">\n",
       "  <thead>\n",
       "    <tr style=\"text-align: right;\">\n",
       "      <th></th>\n",
       "      <th>state</th>\n",
       "      <th>2013_14</th>\n",
       "      <th>2018_19</th>\n",
       "    </tr>\n",
       "  </thead>\n",
       "  <tbody>\n",
       "    <tr>\n",
       "      <th>0</th>\n",
       "      <td>Andhra Pradesh</td>\n",
       "      <td>4642720</td>\n",
       "      <td>8737210</td>\n",
       "    </tr>\n",
       "    <tr>\n",
       "      <th>1</th>\n",
       "      <td>Arunachal Pradesh</td>\n",
       "      <td>145810</td>\n",
       "      <td>253350</td>\n",
       "    </tr>\n",
       "    <tr>\n",
       "      <th>2</th>\n",
       "      <td>Assam</td>\n",
       "      <td>1777450</td>\n",
       "      <td>3093360</td>\n",
       "    </tr>\n",
       "    <tr>\n",
       "      <th>3</th>\n",
       "      <td>Bihar</td>\n",
       "      <td>3171010</td>\n",
       "      <td>5279760</td>\n",
       "    </tr>\n",
       "    <tr>\n",
       "      <th>4</th>\n",
       "      <td>Chhattisgarh</td>\n",
       "      <td>2068330</td>\n",
       "      <td>3271070</td>\n",
       "    </tr>\n",
       "  </tbody>\n",
       "</table>\n",
       "</div>"
      ],
      "text/plain": [
       "                state  2013_14  2018_19\n",
       "0     Andhra Pradesh   4642720  8737210\n",
       "1  Arunachal Pradesh    145810   253350\n",
       "2              Assam   1777450  3093360\n",
       "3              Bihar   3171010  5279760\n",
       "4       Chhattisgarh   2068330  3271070"
      ]
     },
     "execution_count": 5,
     "metadata": {},
     "output_type": "execute_result"
    }
   ],
   "source": [
    "gdp = pd.read_excel('C:\\\\Users\\HP\\Desktop\\\\gdp.xlsx')\n",
    "gdp.head()"
   ]
  },
  {
   "cell_type": "code",
   "execution_count": 6,
   "id": "7a5d1713",
   "metadata": {},
   "outputs": [
    {
     "data": {
      "text/html": [
       "<div>\n",
       "<style scoped>\n",
       "    .dataframe tbody tr th:only-of-type {\n",
       "        vertical-align: middle;\n",
       "    }\n",
       "\n",
       "    .dataframe tbody tr th {\n",
       "        vertical-align: top;\n",
       "    }\n",
       "\n",
       "    .dataframe thead th {\n",
       "        text-align: right;\n",
       "    }\n",
       "</style>\n",
       "<table border=\"1\" class=\"dataframe\">\n",
       "  <thead>\n",
       "    <tr style=\"text-align: right;\">\n",
       "      <th></th>\n",
       "      <th>state</th>\n",
       "      <th>2013_14</th>\n",
       "    </tr>\n",
       "  </thead>\n",
       "  <tbody>\n",
       "    <tr>\n",
       "      <th>0</th>\n",
       "      <td>Andhra Pradesh</td>\n",
       "      <td>4642720</td>\n",
       "    </tr>\n",
       "    <tr>\n",
       "      <th>1</th>\n",
       "      <td>Arunachal Pradesh</td>\n",
       "      <td>145810</td>\n",
       "    </tr>\n",
       "    <tr>\n",
       "      <th>2</th>\n",
       "      <td>Assam</td>\n",
       "      <td>1777450</td>\n",
       "    </tr>\n",
       "    <tr>\n",
       "      <th>3</th>\n",
       "      <td>Bihar</td>\n",
       "      <td>3171010</td>\n",
       "    </tr>\n",
       "    <tr>\n",
       "      <th>4</th>\n",
       "      <td>Chhattisgarh</td>\n",
       "      <td>2068330</td>\n",
       "    </tr>\n",
       "  </tbody>\n",
       "</table>\n",
       "</div>"
      ],
      "text/plain": [
       "                state  2013_14\n",
       "0     Andhra Pradesh   4642720\n",
       "1  Arunachal Pradesh    145810\n",
       "2              Assam   1777450\n",
       "3              Bihar   3171010\n",
       "4       Chhattisgarh   2068330"
      ]
     },
     "execution_count": 6,
     "metadata": {},
     "output_type": "execute_result"
    }
   ],
   "source": [
    "# as using the data for 2014 analysis, drop the 2018-19 column. If using for 2019 analysis, drop the column for 2013-14 for the sake of simplicity\n",
    "df = gdp.drop('2018_19', axis=1)\n",
    "df.head()"
   ]
  },
  {
   "cell_type": "code",
   "execution_count": 7,
   "id": "d5d92d33",
   "metadata": {},
   "outputs": [
    {
     "data": {
      "text/html": [
       "<div>\n",
       "<style scoped>\n",
       "    .dataframe tbody tr th:only-of-type {\n",
       "        vertical-align: middle;\n",
       "    }\n",
       "\n",
       "    .dataframe tbody tr th {\n",
       "        vertical-align: top;\n",
       "    }\n",
       "\n",
       "    .dataframe thead th {\n",
       "        text-align: right;\n",
       "    }\n",
       "</style>\n",
       "<table border=\"1\" class=\"dataframe\">\n",
       "  <thead>\n",
       "    <tr style=\"text-align: right;\">\n",
       "      <th></th>\n",
       "      <th>state</th>\n",
       "      <th>state_voter_turnout_ratio</th>\n",
       "    </tr>\n",
       "  </thead>\n",
       "  <tbody>\n",
       "    <tr>\n",
       "      <th>0</th>\n",
       "      <td>Andaman &amp; Nicobar Islands</td>\n",
       "      <td>70.66</td>\n",
       "    </tr>\n",
       "    <tr>\n",
       "      <th>1</th>\n",
       "      <td>Andhra Pradesh</td>\n",
       "      <td>77.67</td>\n",
       "    </tr>\n",
       "    <tr>\n",
       "      <th>2</th>\n",
       "      <td>Arunachal Pradesh</td>\n",
       "      <td>78.61</td>\n",
       "    </tr>\n",
       "    <tr>\n",
       "      <th>3</th>\n",
       "      <td>Assam</td>\n",
       "      <td>80.08</td>\n",
       "    </tr>\n",
       "    <tr>\n",
       "      <th>4</th>\n",
       "      <td>Bihar</td>\n",
       "      <td>56.25</td>\n",
       "    </tr>\n",
       "  </tbody>\n",
       "</table>\n",
       "</div>"
      ],
      "text/plain": [
       "                       state  state_voter_turnout_ratio\n",
       "0  Andaman & Nicobar Islands                      70.66\n",
       "1             Andhra Pradesh                      77.67\n",
       "2          Arunachal Pradesh                      78.61\n",
       "3                      Assam                      80.08\n",
       "4                      Bihar                      56.25"
      ]
     },
     "execution_count": 7,
     "metadata": {},
     "output_type": "execute_result"
    }
   ],
   "source": [
    "# read the excel file\n",
    "v_14 = pd.read_excel('C:\\\\Users\\HP\\Desktop\\\\state_vtr_14.xlsx')\n",
    "v_14.head()"
   ]
  },
  {
   "cell_type": "code",
   "execution_count": 8,
   "id": "eb3ebf58",
   "metadata": {},
   "outputs": [],
   "source": [
    "# standardize state names by stripping extra spaces and consistent formatting\n",
    "df['state'] = df['state'].str.strip().str.replace('&', 'and').str.replace('\\s*\\(.*\\)', '', regex=True)\n",
    "v_14['state'] = v_14['state'].str.strip().str.replace('&', 'and').str.replace('\\s*\\(.*\\)', '', regex=True)\n"
   ]
  },
  {
   "cell_type": "code",
   "execution_count": 9,
   "id": "73823f3b",
   "metadata": {},
   "outputs": [
    {
     "data": {
      "text/html": [
       "<div>\n",
       "<style scoped>\n",
       "    .dataframe tbody tr th:only-of-type {\n",
       "        vertical-align: middle;\n",
       "    }\n",
       "\n",
       "    .dataframe tbody tr th {\n",
       "        vertical-align: top;\n",
       "    }\n",
       "\n",
       "    .dataframe thead th {\n",
       "        text-align: right;\n",
       "    }\n",
       "</style>\n",
       "<table border=\"1\" class=\"dataframe\">\n",
       "  <thead>\n",
       "    <tr style=\"text-align: right;\">\n",
       "      <th></th>\n",
       "      <th>state</th>\n",
       "      <th>2013_14</th>\n",
       "      <th>state_voter_turnout_ratio</th>\n",
       "    </tr>\n",
       "  </thead>\n",
       "  <tbody>\n",
       "    <tr>\n",
       "      <th>0</th>\n",
       "      <td>Andhra Pradesh</td>\n",
       "      <td>4642720</td>\n",
       "      <td>77.67</td>\n",
       "    </tr>\n",
       "    <tr>\n",
       "      <th>1</th>\n",
       "      <td>Arunachal Pradesh</td>\n",
       "      <td>145810</td>\n",
       "      <td>78.61</td>\n",
       "    </tr>\n",
       "    <tr>\n",
       "      <th>2</th>\n",
       "      <td>Assam</td>\n",
       "      <td>1777450</td>\n",
       "      <td>80.08</td>\n",
       "    </tr>\n",
       "    <tr>\n",
       "      <th>3</th>\n",
       "      <td>Bihar</td>\n",
       "      <td>3171010</td>\n",
       "      <td>56.25</td>\n",
       "    </tr>\n",
       "    <tr>\n",
       "      <th>4</th>\n",
       "      <td>Goa</td>\n",
       "      <td>359210</td>\n",
       "      <td>77.02</td>\n",
       "    </tr>\n",
       "  </tbody>\n",
       "</table>\n",
       "</div>"
      ],
      "text/plain": [
       "               state  2013_14  state_voter_turnout_ratio\n",
       "0     Andhra Pradesh  4642720                      77.67\n",
       "1  Arunachal Pradesh   145810                      78.61\n",
       "2              Assam  1777450                      80.08\n",
       "3              Bihar  3171010                      56.25\n",
       "4                Goa   359210                      77.02"
      ]
     },
     "execution_count": 9,
     "metadata": {},
     "output_type": "execute_result"
    }
   ],
   "source": [
    "# merge the dataframes using the common column in both the dataframes (performing inner join)\n",
    "merged_df = pd.merge(df,v_14,on = \"state\")\n",
    "merged_df.head()"
   ]
  },
  {
   "cell_type": "code",
   "execution_count": 10,
   "id": "daf70940",
   "metadata": {},
   "outputs": [
    {
     "data": {
      "text/html": [
       "<div>\n",
       "<style scoped>\n",
       "    .dataframe tbody tr th:only-of-type {\n",
       "        vertical-align: middle;\n",
       "    }\n",
       "\n",
       "    .dataframe tbody tr th {\n",
       "        vertical-align: top;\n",
       "    }\n",
       "\n",
       "    .dataframe thead th {\n",
       "        text-align: right;\n",
       "    }\n",
       "</style>\n",
       "<table border=\"1\" class=\"dataframe\">\n",
       "  <thead>\n",
       "    <tr style=\"text-align: right;\">\n",
       "      <th></th>\n",
       "      <th>2013_14</th>\n",
       "      <th>state_voter_turnout_ratio</th>\n",
       "    </tr>\n",
       "  </thead>\n",
       "  <tbody>\n",
       "    <tr>\n",
       "      <th>2013_14</th>\n",
       "      <td>1.000000</td>\n",
       "      <td>-0.329826</td>\n",
       "    </tr>\n",
       "    <tr>\n",
       "      <th>state_voter_turnout_ratio</th>\n",
       "      <td>-0.329826</td>\n",
       "      <td>1.000000</td>\n",
       "    </tr>\n",
       "  </tbody>\n",
       "</table>\n",
       "</div>"
      ],
      "text/plain": [
       "                            2013_14  state_voter_turnout_ratio\n",
       "2013_14                    1.000000                  -0.329826\n",
       "state_voter_turnout_ratio -0.329826                   1.000000"
      ]
     },
     "execution_count": 10,
     "metadata": {},
     "output_type": "execute_result"
    }
   ],
   "source": [
    "# compute the correlation matrix\n",
    "corr_matr_14 = merged_df.corr()\n",
    "corr_matr_14"
   ]
  },
  {
   "cell_type": "markdown",
   "id": "41f7fa98",
   "metadata": {},
   "source": [
    "The correlation coefficient of -0.329826 suggests a moderate negative correlation between gdp of 2013_14 and state_voter_turnout_ratio. This means that as the value of one variable increases, the value of the other variable tends to decrease, but the relationship is not very strong."
   ]
  },
  {
   "cell_type": "markdown",
   "id": "73084752",
   "metadata": {},
   "source": [
    "### 2019"
   ]
  },
  {
   "cell_type": "code",
   "execution_count": 11,
   "id": "f91bd89b",
   "metadata": {},
   "outputs": [
    {
     "data": {
      "text/html": [
       "<div>\n",
       "<style scoped>\n",
       "    .dataframe tbody tr th:only-of-type {\n",
       "        vertical-align: middle;\n",
       "    }\n",
       "\n",
       "    .dataframe tbody tr th {\n",
       "        vertical-align: top;\n",
       "    }\n",
       "\n",
       "    .dataframe thead th {\n",
       "        text-align: right;\n",
       "    }\n",
       "</style>\n",
       "<table border=\"1\" class=\"dataframe\">\n",
       "  <thead>\n",
       "    <tr style=\"text-align: right;\">\n",
       "      <th></th>\n",
       "      <th>state</th>\n",
       "      <th>2018_19</th>\n",
       "    </tr>\n",
       "  </thead>\n",
       "  <tbody>\n",
       "    <tr>\n",
       "      <th>0</th>\n",
       "      <td>Andhra Pradesh</td>\n",
       "      <td>8737210</td>\n",
       "    </tr>\n",
       "    <tr>\n",
       "      <th>1</th>\n",
       "      <td>Arunachal Pradesh</td>\n",
       "      <td>253350</td>\n",
       "    </tr>\n",
       "    <tr>\n",
       "      <th>2</th>\n",
       "      <td>Assam</td>\n",
       "      <td>3093360</td>\n",
       "    </tr>\n",
       "    <tr>\n",
       "      <th>3</th>\n",
       "      <td>Bihar</td>\n",
       "      <td>5279760</td>\n",
       "    </tr>\n",
       "    <tr>\n",
       "      <th>4</th>\n",
       "      <td>Chhattisgarh</td>\n",
       "      <td>3271070</td>\n",
       "    </tr>\n",
       "  </tbody>\n",
       "</table>\n",
       "</div>"
      ],
      "text/plain": [
       "                state  2018_19\n",
       "0     Andhra Pradesh   8737210\n",
       "1  Arunachal Pradesh    253350\n",
       "2              Assam   3093360\n",
       "3              Bihar   5279760\n",
       "4       Chhattisgarh   3271070"
      ]
     },
     "execution_count": 11,
     "metadata": {},
     "output_type": "execute_result"
    }
   ],
   "source": [
    "# for 2019 analysis, drop the 2013-14 column for simplicity\n",
    "df_19 = gdp.drop('2013_14', axis = 1)\n",
    "df_19.head()"
   ]
  },
  {
   "cell_type": "code",
   "execution_count": 12,
   "id": "2137b116",
   "metadata": {},
   "outputs": [
    {
     "data": {
      "text/html": [
       "<div>\n",
       "<style scoped>\n",
       "    .dataframe tbody tr th:only-of-type {\n",
       "        vertical-align: middle;\n",
       "    }\n",
       "\n",
       "    .dataframe tbody tr th {\n",
       "        vertical-align: top;\n",
       "    }\n",
       "\n",
       "    .dataframe thead th {\n",
       "        text-align: right;\n",
       "    }\n",
       "</style>\n",
       "<table border=\"1\" class=\"dataframe\">\n",
       "  <thead>\n",
       "    <tr style=\"text-align: right;\">\n",
       "      <th></th>\n",
       "      <th>state</th>\n",
       "      <th>state_voter_turnout_ratio</th>\n",
       "    </tr>\n",
       "  </thead>\n",
       "  <tbody>\n",
       "    <tr>\n",
       "      <th>0</th>\n",
       "      <td>Andhra Pradesh</td>\n",
       "      <td>80.22</td>\n",
       "    </tr>\n",
       "    <tr>\n",
       "      <th>1</th>\n",
       "      <td>Arunachal Pradesh</td>\n",
       "      <td>81.15</td>\n",
       "    </tr>\n",
       "    <tr>\n",
       "      <th>2</th>\n",
       "      <td>Assam</td>\n",
       "      <td>81.57</td>\n",
       "    </tr>\n",
       "    <tr>\n",
       "      <th>3</th>\n",
       "      <td>Bihar</td>\n",
       "      <td>57.30</td>\n",
       "    </tr>\n",
       "    <tr>\n",
       "      <th>4</th>\n",
       "      <td>Goa</td>\n",
       "      <td>75.10</td>\n",
       "    </tr>\n",
       "  </tbody>\n",
       "</table>\n",
       "</div>"
      ],
      "text/plain": [
       "               state  state_voter_turnout_ratio\n",
       "0     Andhra Pradesh                      80.22\n",
       "1  Arunachal Pradesh                      81.15\n",
       "2              Assam                      81.57\n",
       "3              Bihar                      57.30\n",
       "4                Goa                      75.10"
      ]
     },
     "execution_count": 12,
     "metadata": {},
     "output_type": "execute_result"
    }
   ],
   "source": [
    "# read the excel file with state voter turnout % for 2019\n",
    "v_19 = pd.read_excel('C:\\\\Users\\HP\\Desktop\\\\state_vtr_19.xlsx')\n",
    "v_19.head()"
   ]
  },
  {
   "cell_type": "code",
   "execution_count": 13,
   "id": "cd34a034",
   "metadata": {},
   "outputs": [],
   "source": [
    "# standardize state names by stripping extra spaces and consistent formatting before merging the dataframes\n",
    "df_19['state'] = df_19['state'].str.strip().str.replace('&', 'and').str.replace('\\s*\\(.*\\)', '', regex=True)\n",
    "v_19['state'] = v_19['state'].str.strip().str.replace('&', 'and').str.replace('\\s*\\(.*\\)', '', regex=True)\n"
   ]
  },
  {
   "cell_type": "code",
   "execution_count": 14,
   "id": "c1217363",
   "metadata": {
    "scrolled": true
   },
   "outputs": [
    {
     "data": {
      "text/html": [
       "<div>\n",
       "<style scoped>\n",
       "    .dataframe tbody tr th:only-of-type {\n",
       "        vertical-align: middle;\n",
       "    }\n",
       "\n",
       "    .dataframe tbody tr th {\n",
       "        vertical-align: top;\n",
       "    }\n",
       "\n",
       "    .dataframe thead th {\n",
       "        text-align: right;\n",
       "    }\n",
       "</style>\n",
       "<table border=\"1\" class=\"dataframe\">\n",
       "  <thead>\n",
       "    <tr style=\"text-align: right;\">\n",
       "      <th></th>\n",
       "      <th>state</th>\n",
       "      <th>2018_19</th>\n",
       "      <th>state_voter_turnout_ratio</th>\n",
       "    </tr>\n",
       "  </thead>\n",
       "  <tbody>\n",
       "    <tr>\n",
       "      <th>0</th>\n",
       "      <td>Andhra Pradesh</td>\n",
       "      <td>8737210</td>\n",
       "      <td>80.22</td>\n",
       "    </tr>\n",
       "    <tr>\n",
       "      <th>1</th>\n",
       "      <td>Arunachal Pradesh</td>\n",
       "      <td>253350</td>\n",
       "      <td>81.15</td>\n",
       "    </tr>\n",
       "    <tr>\n",
       "      <th>2</th>\n",
       "      <td>Assam</td>\n",
       "      <td>3093360</td>\n",
       "      <td>81.57</td>\n",
       "    </tr>\n",
       "    <tr>\n",
       "      <th>3</th>\n",
       "      <td>Bihar</td>\n",
       "      <td>5279760</td>\n",
       "      <td>57.30</td>\n",
       "    </tr>\n",
       "    <tr>\n",
       "      <th>4</th>\n",
       "      <td>Chhattisgarh</td>\n",
       "      <td>3271070</td>\n",
       "      <td>71.59</td>\n",
       "    </tr>\n",
       "  </tbody>\n",
       "</table>\n",
       "</div>"
      ],
      "text/plain": [
       "               state  2018_19  state_voter_turnout_ratio\n",
       "0     Andhra Pradesh  8737210                      80.22\n",
       "1  Arunachal Pradesh   253350                      81.15\n",
       "2              Assam  3093360                      81.57\n",
       "3              Bihar  5279760                      57.30\n",
       "4       Chhattisgarh  3271070                      71.59"
      ]
     },
     "execution_count": 14,
     "metadata": {},
     "output_type": "execute_result"
    }
   ],
   "source": [
    "# merge the dataframes\n",
    "merged_df_19 = pd.merge(df_19,v_19,on = \"state\")\n",
    "merged_df_19.head()"
   ]
  },
  {
   "cell_type": "code",
   "execution_count": 15,
   "id": "a0afb53a",
   "metadata": {},
   "outputs": [
    {
     "data": {
      "text/html": [
       "<div>\n",
       "<style scoped>\n",
       "    .dataframe tbody tr th:only-of-type {\n",
       "        vertical-align: middle;\n",
       "    }\n",
       "\n",
       "    .dataframe tbody tr th {\n",
       "        vertical-align: top;\n",
       "    }\n",
       "\n",
       "    .dataframe thead th {\n",
       "        text-align: right;\n",
       "    }\n",
       "</style>\n",
       "<table border=\"1\" class=\"dataframe\">\n",
       "  <thead>\n",
       "    <tr style=\"text-align: right;\">\n",
       "      <th></th>\n",
       "      <th>2018_19</th>\n",
       "      <th>state_voter_turnout_ratio</th>\n",
       "    </tr>\n",
       "  </thead>\n",
       "  <tbody>\n",
       "    <tr>\n",
       "      <th>2018_19</th>\n",
       "      <td>1.00000</td>\n",
       "      <td>-0.27919</td>\n",
       "    </tr>\n",
       "    <tr>\n",
       "      <th>state_voter_turnout_ratio</th>\n",
       "      <td>-0.27919</td>\n",
       "      <td>1.00000</td>\n",
       "    </tr>\n",
       "  </tbody>\n",
       "</table>\n",
       "</div>"
      ],
      "text/plain": [
       "                           2018_19  state_voter_turnout_ratio\n",
       "2018_19                    1.00000                   -0.27919\n",
       "state_voter_turnout_ratio -0.27919                    1.00000"
      ]
     },
     "execution_count": 15,
     "metadata": {},
     "output_type": "execute_result"
    }
   ],
   "source": [
    "# compute the correlation matrix\n",
    "correlation_matrix_19 = merged_df_19.corr()\n",
    "correlation_matrix_19"
   ]
  },
  {
   "cell_type": "markdown",
   "id": "19911025",
   "metadata": {},
   "source": [
    "The correlation coefficient of -0.27919 indicates a weak negative correlation. This suggests that as the value of one variable increases, the value of the other variable tends to decrease, but the relationship is relatively weak."
   ]
  },
  {
   "cell_type": "markdown",
   "id": "83c2c3df",
   "metadata": {},
   "source": [
    "### 3. Is there any correlation between literacy % of a state and voter turnout %?"
   ]
  },
  {
   "cell_type": "code",
   "execution_count": 16,
   "id": "75637d26",
   "metadata": {},
   "outputs": [
    {
     "data": {
      "text/html": [
       "<div>\n",
       "<style scoped>\n",
       "    .dataframe tbody tr th:only-of-type {\n",
       "        vertical-align: middle;\n",
       "    }\n",
       "\n",
       "    .dataframe tbody tr th {\n",
       "        vertical-align: top;\n",
       "    }\n",
       "\n",
       "    .dataframe thead th {\n",
       "        text-align: right;\n",
       "    }\n",
       "</style>\n",
       "<table border=\"1\" class=\"dataframe\">\n",
       "  <thead>\n",
       "    <tr style=\"text-align: right;\">\n",
       "      <th></th>\n",
       "      <th>state</th>\n",
       "      <th>Census_2011</th>\n",
       "      <th>NSO_survey_2017</th>\n",
       "    </tr>\n",
       "  </thead>\n",
       "  <tbody>\n",
       "    <tr>\n",
       "      <th>0</th>\n",
       "      <td>Andaman &amp; Nicobar Islands</td>\n",
       "      <td>86.63</td>\n",
       "      <td>86.27</td>\n",
       "    </tr>\n",
       "    <tr>\n",
       "      <th>1</th>\n",
       "      <td>Andhra Pradesh</td>\n",
       "      <td>67.02</td>\n",
       "      <td>66.90</td>\n",
       "    </tr>\n",
       "    <tr>\n",
       "      <th>2</th>\n",
       "      <td>Arunachal Pradesh</td>\n",
       "      <td>65.38</td>\n",
       "      <td>66.95</td>\n",
       "    </tr>\n",
       "    <tr>\n",
       "      <th>3</th>\n",
       "      <td>Assam</td>\n",
       "      <td>72.19</td>\n",
       "      <td>85.90</td>\n",
       "    </tr>\n",
       "    <tr>\n",
       "      <th>4</th>\n",
       "      <td>Bihar</td>\n",
       "      <td>61.80</td>\n",
       "      <td>70.90</td>\n",
       "    </tr>\n",
       "  </tbody>\n",
       "</table>\n",
       "</div>"
      ],
      "text/plain": [
       "                       state  Census_2011  NSO_survey_2017\n",
       "0  Andaman & Nicobar Islands        86.63            86.27\n",
       "1             Andhra Pradesh        67.02            66.90\n",
       "2          Arunachal Pradesh        65.38            66.95\n",
       "3                      Assam        72.19            85.90\n",
       "4                      Bihar        61.80            70.90"
      ]
     },
     "execution_count": 16,
     "metadata": {},
     "output_type": "execute_result"
    }
   ],
   "source": [
    "# read the excel file containing literacy rate data\n",
    "lr = pd.read_excel('C:\\\\Users\\HP\\Desktop\\\\literacy_rate.xlsx')\n",
    "lr.head()"
   ]
  },
  {
   "cell_type": "code",
   "execution_count": 17,
   "id": "4f990748",
   "metadata": {},
   "outputs": [],
   "source": [
    "# for 2014 analysis, dropping the other column\n",
    "lr_14 = lr.drop('NSO_survey_2017',axis = 1)"
   ]
  },
  {
   "cell_type": "code",
   "execution_count": 19,
   "id": "e467bf7a",
   "metadata": {
    "scrolled": false
   },
   "outputs": [
    {
     "data": {
      "text/html": [
       "<div>\n",
       "<style scoped>\n",
       "    .dataframe tbody tr th:only-of-type {\n",
       "        vertical-align: middle;\n",
       "    }\n",
       "\n",
       "    .dataframe tbody tr th {\n",
       "        vertical-align: top;\n",
       "    }\n",
       "\n",
       "    .dataframe thead th {\n",
       "        text-align: right;\n",
       "    }\n",
       "</style>\n",
       "<table border=\"1\" class=\"dataframe\">\n",
       "  <thead>\n",
       "    <tr style=\"text-align: right;\">\n",
       "      <th></th>\n",
       "      <th>state</th>\n",
       "      <th>Census_2011</th>\n",
       "      <th>state_voter_turnout_ratio</th>\n",
       "    </tr>\n",
       "  </thead>\n",
       "  <tbody>\n",
       "    <tr>\n",
       "      <th>0</th>\n",
       "      <td>Andhra Pradesh</td>\n",
       "      <td>67.02</td>\n",
       "      <td>77.67</td>\n",
       "    </tr>\n",
       "    <tr>\n",
       "      <th>1</th>\n",
       "      <td>Arunachal Pradesh</td>\n",
       "      <td>65.38</td>\n",
       "      <td>78.61</td>\n",
       "    </tr>\n",
       "    <tr>\n",
       "      <th>2</th>\n",
       "      <td>Assam</td>\n",
       "      <td>72.19</td>\n",
       "      <td>80.08</td>\n",
       "    </tr>\n",
       "    <tr>\n",
       "      <th>3</th>\n",
       "      <td>Bihar</td>\n",
       "      <td>61.80</td>\n",
       "      <td>56.25</td>\n",
       "    </tr>\n",
       "    <tr>\n",
       "      <th>4</th>\n",
       "      <td>Chandigarh</td>\n",
       "      <td>86.05</td>\n",
       "      <td>73.71</td>\n",
       "    </tr>\n",
       "  </tbody>\n",
       "</table>\n",
       "</div>"
      ],
      "text/plain": [
       "               state  Census_2011  state_voter_turnout_ratio\n",
       "0     Andhra Pradesh        67.02                      77.67\n",
       "1  Arunachal Pradesh        65.38                      78.61\n",
       "2              Assam        72.19                      80.08\n",
       "3              Bihar        61.80                      56.25\n",
       "4         Chandigarh        86.05                      73.71"
      ]
     },
     "execution_count": 19,
     "metadata": {},
     "output_type": "execute_result"
    }
   ],
   "source": [
    "lr_merge_14 = pd.merge(lr_14,v_14,on = 'state')\n",
    "lr_merge_14.head()"
   ]
  },
  {
   "cell_type": "code",
   "execution_count": 20,
   "id": "8ae25e27",
   "metadata": {},
   "outputs": [
    {
     "data": {
      "text/html": [
       "<div>\n",
       "<style scoped>\n",
       "    .dataframe tbody tr th:only-of-type {\n",
       "        vertical-align: middle;\n",
       "    }\n",
       "\n",
       "    .dataframe tbody tr th {\n",
       "        vertical-align: top;\n",
       "    }\n",
       "\n",
       "    .dataframe thead th {\n",
       "        text-align: right;\n",
       "    }\n",
       "</style>\n",
       "<table border=\"1\" class=\"dataframe\">\n",
       "  <thead>\n",
       "    <tr style=\"text-align: right;\">\n",
       "      <th></th>\n",
       "      <th>Census_2011</th>\n",
       "      <th>state_voter_turnout_ratio</th>\n",
       "    </tr>\n",
       "  </thead>\n",
       "  <tbody>\n",
       "    <tr>\n",
       "      <th>Census_2011</th>\n",
       "      <td>1.000000</td>\n",
       "      <td>0.240189</td>\n",
       "    </tr>\n",
       "    <tr>\n",
       "      <th>state_voter_turnout_ratio</th>\n",
       "      <td>0.240189</td>\n",
       "      <td>1.000000</td>\n",
       "    </tr>\n",
       "  </tbody>\n",
       "</table>\n",
       "</div>"
      ],
      "text/plain": [
       "                           Census_2011  state_voter_turnout_ratio\n",
       "Census_2011                   1.000000                   0.240189\n",
       "state_voter_turnout_ratio     0.240189                   1.000000"
      ]
     },
     "execution_count": 20,
     "metadata": {},
     "output_type": "execute_result"
    }
   ],
   "source": [
    "# compute the correlation matrix\n",
    "c_matrix_14 = lr_merge_14.corr()\n",
    "c_matrix_14"
   ]
  },
  {
   "cell_type": "markdown",
   "id": "6145e230",
   "metadata": {},
   "source": [
    "The correlation coefficient of 0.240189 indicates a weak positive correlation. This suggests that as the value of one variable increases, the value of the other variable also tends to increase, but the relationship is relatively weak."
   ]
  },
  {
   "cell_type": "markdown",
   "id": "780916bb",
   "metadata": {},
   "source": [
    "### 2019"
   ]
  },
  {
   "cell_type": "code",
   "execution_count": 21,
   "id": "44200884",
   "metadata": {},
   "outputs": [
    {
     "data": {
      "text/html": [
       "<div>\n",
       "<style scoped>\n",
       "    .dataframe tbody tr th:only-of-type {\n",
       "        vertical-align: middle;\n",
       "    }\n",
       "\n",
       "    .dataframe tbody tr th {\n",
       "        vertical-align: top;\n",
       "    }\n",
       "\n",
       "    .dataframe thead th {\n",
       "        text-align: right;\n",
       "    }\n",
       "</style>\n",
       "<table border=\"1\" class=\"dataframe\">\n",
       "  <thead>\n",
       "    <tr style=\"text-align: right;\">\n",
       "      <th></th>\n",
       "      <th>state</th>\n",
       "      <th>NSO_survey_2017</th>\n",
       "    </tr>\n",
       "  </thead>\n",
       "  <tbody>\n",
       "    <tr>\n",
       "      <th>0</th>\n",
       "      <td>Andaman &amp; Nicobar Islands</td>\n",
       "      <td>86.27</td>\n",
       "    </tr>\n",
       "    <tr>\n",
       "      <th>1</th>\n",
       "      <td>Andhra Pradesh</td>\n",
       "      <td>66.90</td>\n",
       "    </tr>\n",
       "    <tr>\n",
       "      <th>2</th>\n",
       "      <td>Arunachal Pradesh</td>\n",
       "      <td>66.95</td>\n",
       "    </tr>\n",
       "    <tr>\n",
       "      <th>3</th>\n",
       "      <td>Assam</td>\n",
       "      <td>85.90</td>\n",
       "    </tr>\n",
       "    <tr>\n",
       "      <th>4</th>\n",
       "      <td>Bihar</td>\n",
       "      <td>70.90</td>\n",
       "    </tr>\n",
       "  </tbody>\n",
       "</table>\n",
       "</div>"
      ],
      "text/plain": [
       "                       state  NSO_survey_2017\n",
       "0  Andaman & Nicobar Islands            86.27\n",
       "1             Andhra Pradesh            66.90\n",
       "2          Arunachal Pradesh            66.95\n",
       "3                      Assam            85.90\n",
       "4                      Bihar            70.90"
      ]
     },
     "execution_count": 21,
     "metadata": {},
     "output_type": "execute_result"
    }
   ],
   "source": [
    "# For 2019 analysis, dropping the mentioned column\n",
    "lr_19 = lr.drop('Census_2011',axis = 1)\n",
    "lr_19.head()"
   ]
  },
  {
   "cell_type": "code",
   "execution_count": 22,
   "id": "7ae8eb63",
   "metadata": {},
   "outputs": [],
   "source": [
    "# merge the dataframes\n",
    "merge_19 = pd.merge(lr_19,v_19, on = 'state')"
   ]
  },
  {
   "cell_type": "code",
   "execution_count": 23,
   "id": "25174493",
   "metadata": {},
   "outputs": [
    {
     "data": {
      "text/html": [
       "<div>\n",
       "<style scoped>\n",
       "    .dataframe tbody tr th:only-of-type {\n",
       "        vertical-align: middle;\n",
       "    }\n",
       "\n",
       "    .dataframe tbody tr th {\n",
       "        vertical-align: top;\n",
       "    }\n",
       "\n",
       "    .dataframe thead th {\n",
       "        text-align: right;\n",
       "    }\n",
       "</style>\n",
       "<table border=\"1\" class=\"dataframe\">\n",
       "  <thead>\n",
       "    <tr style=\"text-align: right;\">\n",
       "      <th></th>\n",
       "      <th>NSO_survey_2017</th>\n",
       "      <th>state_voter_turnout_ratio</th>\n",
       "    </tr>\n",
       "  </thead>\n",
       "  <tbody>\n",
       "    <tr>\n",
       "      <th>NSO_survey_2017</th>\n",
       "      <td>1.000000</td>\n",
       "      <td>0.204556</td>\n",
       "    </tr>\n",
       "    <tr>\n",
       "      <th>state_voter_turnout_ratio</th>\n",
       "      <td>0.204556</td>\n",
       "      <td>1.000000</td>\n",
       "    </tr>\n",
       "  </tbody>\n",
       "</table>\n",
       "</div>"
      ],
      "text/plain": [
       "                           NSO_survey_2017  state_voter_turnout_ratio\n",
       "NSO_survey_2017                   1.000000                   0.204556\n",
       "state_voter_turnout_ratio         0.204556                   1.000000"
      ]
     },
     "execution_count": 23,
     "metadata": {},
     "output_type": "execute_result"
    }
   ],
   "source": [
    "# compute the correlation matrix\n",
    "c_matrix_19 = merge_19.corr()\n",
    "c_matrix_19"
   ]
  },
  {
   "cell_type": "markdown",
   "id": "3720d51a",
   "metadata": {},
   "source": [
    "The correlation coefficient of 0.204556 indicates a weak positive correlation. This suggests that as the value of one variable increases, the value of the other variable also tends to increase, but the relationship is relatively weak."
   ]
  }
 ],
 "metadata": {
  "kernelspec": {
   "display_name": "Python 3 (ipykernel)",
   "language": "python",
   "name": "python3"
  },
  "language_info": {
   "codemirror_mode": {
    "name": "ipython",
    "version": 3
   },
   "file_extension": ".py",
   "mimetype": "text/x-python",
   "name": "python",
   "nbconvert_exporter": "python",
   "pygments_lexer": "ipython3",
   "version": "3.8.1"
  }
 },
 "nbformat": 4,
 "nbformat_minor": 5
}
